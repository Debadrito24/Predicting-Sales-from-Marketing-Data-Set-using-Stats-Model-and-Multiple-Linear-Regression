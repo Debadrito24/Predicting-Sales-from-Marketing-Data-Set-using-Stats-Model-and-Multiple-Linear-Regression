{
 "cells": [
  {
   "cell_type": "code",
   "execution_count": 264,
   "metadata": {},
   "outputs": [],
   "source": [
    "import pandas as pd\n",
    "import numpy as np\n",
    "import matplotlib.pyplot as plt\n",
    "import seaborn as sns\n",
    "from scipy import stats\n",
    "import math"
   ]
  },
  {
   "cell_type": "code",
   "execution_count": 265,
   "metadata": {},
   "outputs": [
    {
     "data": {
      "text/html": [
       "<div>\n",
       "<style scoped>\n",
       "    .dataframe tbody tr th:only-of-type {\n",
       "        vertical-align: middle;\n",
       "    }\n",
       "\n",
       "    .dataframe tbody tr th {\n",
       "        vertical-align: top;\n",
       "    }\n",
       "\n",
       "    .dataframe thead th {\n",
       "        text-align: right;\n",
       "    }\n",
       "</style>\n",
       "<table border=\"1\" class=\"dataframe\">\n",
       "  <thead>\n",
       "    <tr style=\"text-align: right;\">\n",
       "      <th></th>\n",
       "      <th>Sales</th>\n",
       "      <th>Price</th>\n",
       "      <th>Feature</th>\n",
       "      <th>Display</th>\n",
       "      <th>Price - Competitor 1</th>\n",
       "      <th>Price - Competitor 2</th>\n",
       "      <th>Price - Competitor 3</th>\n",
       "      <th>Price - Competitor 4</th>\n",
       "      <th>Price - Competitor 5</th>\n",
       "    </tr>\n",
       "  </thead>\n",
       "  <tbody>\n",
       "    <tr>\n",
       "      <th>0</th>\n",
       "      <td>20.0</td>\n",
       "      <td>5.69</td>\n",
       "      <td>0</td>\n",
       "      <td>0</td>\n",
       "      <td>4.07</td>\n",
       "      <td>4.11</td>\n",
       "      <td>5.28</td>\n",
       "      <td>4.69</td>\n",
       "      <td>3.29</td>\n",
       "    </tr>\n",
       "    <tr>\n",
       "      <th>1</th>\n",
       "      <td>26.0</td>\n",
       "      <td>5.97</td>\n",
       "      <td>0</td>\n",
       "      <td>0</td>\n",
       "      <td>4.07</td>\n",
       "      <td>3.78</td>\n",
       "      <td>5.25</td>\n",
       "      <td>3.95</td>\n",
       "      <td>3.49</td>\n",
       "    </tr>\n",
       "    <tr>\n",
       "      <th>2</th>\n",
       "      <td>41.0</td>\n",
       "      <td>6.19</td>\n",
       "      <td>0</td>\n",
       "      <td>0</td>\n",
       "      <td>4.06</td>\n",
       "      <td>3.42</td>\n",
       "      <td>5.54</td>\n",
       "      <td>3.33</td>\n",
       "      <td>3.69</td>\n",
       "    </tr>\n",
       "    <tr>\n",
       "      <th>3</th>\n",
       "      <td>34.0</td>\n",
       "      <td>5.78</td>\n",
       "      <td>0</td>\n",
       "      <td>0</td>\n",
       "      <td>4.07</td>\n",
       "      <td>3.51</td>\n",
       "      <td>4.50</td>\n",
       "      <td>3.97</td>\n",
       "      <td>2.17</td>\n",
       "    </tr>\n",
       "    <tr>\n",
       "      <th>4</th>\n",
       "      <td>32.0</td>\n",
       "      <td>6.19</td>\n",
       "      <td>0</td>\n",
       "      <td>0</td>\n",
       "      <td>4.07</td>\n",
       "      <td>3.40</td>\n",
       "      <td>5.50</td>\n",
       "      <td>2.76</td>\n",
       "      <td>3.69</td>\n",
       "    </tr>\n",
       "  </tbody>\n",
       "</table>\n",
       "</div>"
      ],
      "text/plain": [
       "   Sales  Price  Feature  Display  Price - Competitor 1  Price - Competitor 2  \\\n",
       "0   20.0   5.69        0        0                  4.07                  4.11   \n",
       "1   26.0   5.97        0        0                  4.07                  3.78   \n",
       "2   41.0   6.19        0        0                  4.06                  3.42   \n",
       "3   34.0   5.78        0        0                  4.07                  3.51   \n",
       "4   32.0   6.19        0        0                  4.07                  3.40   \n",
       "\n",
       "   Price - Competitor 3  Price - Competitor 4  Price - Competitor 5  \n",
       "0                  5.28                  4.69                  3.29  \n",
       "1                  5.25                  3.95                  3.49  \n",
       "2                  5.54                  3.33                  3.69  \n",
       "3                  4.50                  3.97                  2.17  \n",
       "4                  5.50                  2.76                  3.69  "
      ]
     },
     "execution_count": 265,
     "metadata": {},
     "output_type": "execute_result"
    }
   ],
   "source": [
    "df=pd.read_csv(r'C:\\Users\\DEBADRITO\\Desktop\\Term 2\\MRKA PD\\Rawdata.csv')\n",
    "df.head(5)"
   ]
  },
  {
   "cell_type": "code",
   "execution_count": 429,
   "metadata": {},
   "outputs": [],
   "source": [
    "means=[]\n",
    "\n",
    "\n",
    "\n",
    "def mean_x(a):\n",
    "\n",
    "      i=round(df[a].mean())\n",
    "      means.append(i)"
   ]
  },
  {
   "cell_type": "code",
   "execution_count": 430,
   "metadata": {},
   "outputs": [],
   "source": [
    "mean_x(\"Price\")"
   ]
  },
  {
   "cell_type": "code",
   "execution_count": 431,
   "metadata": {},
   "outputs": [],
   "source": [
    "mean_x(\"Price - Competitor 1\")"
   ]
  },
  {
   "cell_type": "code",
   "execution_count": 432,
   "metadata": {},
   "outputs": [],
   "source": [
    "mean_x(\"Price - Competitor 2\")"
   ]
  },
  {
   "cell_type": "code",
   "execution_count": 433,
   "metadata": {},
   "outputs": [],
   "source": [
    "mean_x(\"Price - Competitor 3\")"
   ]
  },
  {
   "cell_type": "code",
   "execution_count": 434,
   "metadata": {},
   "outputs": [],
   "source": [
    "mean_x(\"Price - Competitor 4\")"
   ]
  },
  {
   "cell_type": "code",
   "execution_count": 435,
   "metadata": {},
   "outputs": [],
   "source": [
    "mean_x(\"Price - Competitor 5\")"
   ]
  },
  {
   "cell_type": "code",
   "execution_count": 436,
   "metadata": {},
   "outputs": [
    {
     "data": {
      "text/plain": [
       "[6, 4, 4, 6, 4, 3]"
      ]
     },
     "execution_count": 436,
     "metadata": {},
     "output_type": "execute_result"
    }
   ],
   "source": [
    "means"
   ]
  },
  {
   "cell_type": "code",
   "execution_count": 443,
   "metadata": {},
   "outputs": [],
   "source": [
    "means_new=pd.DataFrame(means)"
   ]
  },
  {
   "cell_type": "code",
   "execution_count": 439,
   "metadata": {},
   "outputs": [
    {
     "data": {
      "text/html": [
       "<div>\n",
       "<style scoped>\n",
       "    .dataframe tbody tr th:only-of-type {\n",
       "        vertical-align: middle;\n",
       "    }\n",
       "\n",
       "    .dataframe tbody tr th {\n",
       "        vertical-align: top;\n",
       "    }\n",
       "\n",
       "    .dataframe thead th {\n",
       "        text-align: right;\n",
       "    }\n",
       "</style>\n",
       "<table border=\"1\" class=\"dataframe\">\n",
       "  <thead>\n",
       "    <tr style=\"text-align: right;\">\n",
       "      <th></th>\n",
       "      <th>0</th>\n",
       "    </tr>\n",
       "  </thead>\n",
       "  <tbody>\n",
       "    <tr>\n",
       "      <th>0</th>\n",
       "      <td>6</td>\n",
       "    </tr>\n",
       "    <tr>\n",
       "      <th>1</th>\n",
       "      <td>4</td>\n",
       "    </tr>\n",
       "    <tr>\n",
       "      <th>2</th>\n",
       "      <td>4</td>\n",
       "    </tr>\n",
       "    <tr>\n",
       "      <th>3</th>\n",
       "      <td>6</td>\n",
       "    </tr>\n",
       "    <tr>\n",
       "      <th>4</th>\n",
       "      <td>4</td>\n",
       "    </tr>\n",
       "    <tr>\n",
       "      <th>5</th>\n",
       "      <td>3</td>\n",
       "    </tr>\n",
       "  </tbody>\n",
       "</table>\n",
       "</div>"
      ],
      "text/plain": [
       "   0\n",
       "0  6\n",
       "1  4\n",
       "2  4\n",
       "3  6\n",
       "4  4\n",
       "5  3"
      ]
     },
     "execution_count": 439,
     "metadata": {},
     "output_type": "execute_result"
    }
   ],
   "source": [
    "means_new"
   ]
  },
  {
   "cell_type": "code",
   "execution_count": 452,
   "metadata": {},
   "outputs": [
    {
     "data": {
      "text/plain": [
       "<matplotlib.axes._subplots.AxesSubplot at 0x29ed2243e50>"
      ]
     },
     "execution_count": 452,
     "metadata": {},
     "output_type": "execute_result"
    },
    {
     "data": {
      "image/png": "[encoded data removed]",
      "text/plain": [
       "<Figure size 432x288 with 1 Axes>"
      ]
     },
     "metadata": {
      "needs_background": "light"
     },
     "output_type": "display_data"
    }
   ],
   "source": [
    "means_new.plot.bar()"
   ]
  },
  {
   "cell_type": "code",
   "execution_count": 453,
   "metadata": {},
   "outputs": [
    {
     "data": {
      "text/html": [
       "<div>\n",
       "<style scoped>\n",
       "    .dataframe tbody tr th:only-of-type {\n",
       "        vertical-align: middle;\n",
       "    }\n",
       "\n",
       "    .dataframe tbody tr th {\n",
       "        vertical-align: top;\n",
       "    }\n",
       "\n",
       "    .dataframe thead th {\n",
       "        text-align: right;\n",
       "    }\n",
       "</style>\n",
       "<table border=\"1\" class=\"dataframe\">\n",
       "  <thead>\n",
       "    <tr style=\"text-align: right;\">\n",
       "      <th></th>\n",
       "      <th>Sales</th>\n",
       "      <th>Price</th>\n",
       "      <th>Feature</th>\n",
       "      <th>Display</th>\n",
       "      <th>Price - Competitor 1</th>\n",
       "      <th>Price - Competitor 2</th>\n",
       "      <th>Price - Competitor 3</th>\n",
       "      <th>Price - Competitor 4</th>\n",
       "      <th>Price - Competitor 5</th>\n",
       "      <th>Display_Features</th>\n",
       "      <th>Display_Price</th>\n",
       "      <th>Price_Features</th>\n",
       "      <th>Display_Price_Features</th>\n",
       "    </tr>\n",
       "  </thead>\n",
       "  <tbody>\n",
       "    <tr>\n",
       "      <th>0</th>\n",
       "      <td>20.0</td>\n",
       "      <td>5.69</td>\n",
       "      <td>0</td>\n",
       "      <td>0</td>\n",
       "      <td>4.07</td>\n",
       "      <td>4.11</td>\n",
       "      <td>5.28</td>\n",
       "      <td>4.69</td>\n",
       "      <td>3.29</td>\n",
       "      <td>0</td>\n",
       "      <td>0.0</td>\n",
       "      <td>0.0</td>\n",
       "      <td>0.0</td>\n",
       "    </tr>\n",
       "    <tr>\n",
       "      <th>1</th>\n",
       "      <td>26.0</td>\n",
       "      <td>5.97</td>\n",
       "      <td>0</td>\n",
       "      <td>0</td>\n",
       "      <td>4.07</td>\n",
       "      <td>3.78</td>\n",
       "      <td>5.25</td>\n",
       "      <td>3.95</td>\n",
       "      <td>3.49</td>\n",
       "      <td>0</td>\n",
       "      <td>0.0</td>\n",
       "      <td>0.0</td>\n",
       "      <td>0.0</td>\n",
       "    </tr>\n",
       "    <tr>\n",
       "      <th>2</th>\n",
       "      <td>41.0</td>\n",
       "      <td>6.19</td>\n",
       "      <td>0</td>\n",
       "      <td>0</td>\n",
       "      <td>4.06</td>\n",
       "      <td>3.42</td>\n",
       "      <td>5.54</td>\n",
       "      <td>3.33</td>\n",
       "      <td>3.69</td>\n",
       "      <td>0</td>\n",
       "      <td>0.0</td>\n",
       "      <td>0.0</td>\n",
       "      <td>0.0</td>\n",
       "    </tr>\n",
       "    <tr>\n",
       "      <th>3</th>\n",
       "      <td>34.0</td>\n",
       "      <td>5.78</td>\n",
       "      <td>0</td>\n",
       "      <td>0</td>\n",
       "      <td>4.07</td>\n",
       "      <td>3.51</td>\n",
       "      <td>4.50</td>\n",
       "      <td>3.97</td>\n",
       "      <td>2.17</td>\n",
       "      <td>0</td>\n",
       "      <td>0.0</td>\n",
       "      <td>0.0</td>\n",
       "      <td>0.0</td>\n",
       "    </tr>\n",
       "    <tr>\n",
       "      <th>4</th>\n",
       "      <td>32.0</td>\n",
       "      <td>6.19</td>\n",
       "      <td>0</td>\n",
       "      <td>0</td>\n",
       "      <td>4.07</td>\n",
       "      <td>3.40</td>\n",
       "      <td>5.50</td>\n",
       "      <td>2.76</td>\n",
       "      <td>3.69</td>\n",
       "      <td>0</td>\n",
       "      <td>0.0</td>\n",
       "      <td>0.0</td>\n",
       "      <td>0.0</td>\n",
       "    </tr>\n",
       "  </tbody>\n",
       "</table>\n",
       "</div>"
      ],
      "text/plain": [
       "   Sales  Price  Feature  Display  Price - Competitor 1  Price - Competitor 2  \\\n",
       "0   20.0   5.69        0        0                  4.07                  4.11   \n",
       "1   26.0   5.97        0        0                  4.07                  3.78   \n",
       "2   41.0   6.19        0        0                  4.06                  3.42   \n",
       "3   34.0   5.78        0        0                  4.07                  3.51   \n",
       "4   32.0   6.19        0        0                  4.07                  3.40   \n",
       "\n",
       "   Price - Competitor 3  Price - Competitor 4  Price - Competitor 5  \\\n",
       "0                  5.28                  4.69                  3.29   \n",
       "1                  5.25                  3.95                  3.49   \n",
       "2                  5.54                  3.33                  3.69   \n",
       "3                  4.50                  3.97                  2.17   \n",
       "4                  5.50                  2.76                  3.69   \n",
       "\n",
       "   Display_Features  Display_Price  Price_Features  Display_Price_Features  \n",
       "0                 0            0.0             0.0                     0.0  \n",
       "1                 0            0.0             0.0                     0.0  \n",
       "2                 0            0.0             0.0                     0.0  \n",
       "3                 0            0.0             0.0                     0.0  \n",
       "4                 0            0.0             0.0                     0.0  "
      ]
     },
     "execution_count": 453,
     "metadata": {},
     "output_type": "execute_result"
    }
   ],
   "source": [
    "df.head(5)"
   ]
  },
  {
   "cell_type": "code",
   "execution_count": 266,
   "metadata": {
    "scrolled": true
   },
   "outputs": [
    {
     "name": "stdout",
     "output_type": "stream",
     "text": [
      "<class 'pandas.core.frame.DataFrame'>\n",
      "RangeIndex: 3238 entries, 0 to 3237\n",
      "Data columns (total 9 columns):\n",
      " #   Column                Non-Null Count  Dtype  \n",
      "---  ------                --------------  -----  \n",
      " 0   Sales                 3238 non-null   float64\n",
      " 1   Price                 3238 non-null   float64\n",
      " 2   Feature               3238 non-null   int64  \n",
      " 3   Display               3238 non-null   int64  \n",
      " 4   Price - Competitor 1  3238 non-null   float64\n",
      " 5   Price - Competitor 2  3238 non-null   float64\n",
      " 6   Price - Competitor 3  3238 non-null   float64\n",
      " 7   Price - Competitor 4  3238 non-null   float64\n",
      " 8   Price - Competitor 5  3238 non-null   float64\n",
      "dtypes: float64(7), int64(2)\n",
      "memory usage: 227.8 KB\n"
     ]
    }
   ],
   "source": [
    "df.info()"
   ]
  },
  {
   "cell_type": "code",
   "execution_count": 267,
   "metadata": {},
   "outputs": [],
   "source": [
    "X=df[[\"Price\",\"Feature\",\"Display\"]]"
   ]
  },
  {
   "cell_type": "code",
   "execution_count": 268,
   "metadata": {},
   "outputs": [
    {
     "data": {
      "text/plain": [
       "0        20.0\n",
       "1        26.0\n",
       "2        41.0\n",
       "3        34.0\n",
       "4        32.0\n",
       "        ...  \n",
       "3233     53.0\n",
       "3234     35.0\n",
       "3235    113.0\n",
       "3236    117.0\n",
       "3237    723.0\n",
       "Name: Sales, Length: 3238, dtype: float64"
      ]
     },
     "execution_count": 268,
     "metadata": {},
     "output_type": "execute_result"
    }
   ],
   "source": [
    "y=df[\"Sales\"]\n",
    "y"
   ]
  },
  {
   "cell_type": "code",
   "execution_count": 269,
   "metadata": {},
   "outputs": [],
   "source": [
    "from sklearn.model_selection import train_test_split\n",
    "X_train, X_test, y_train, y_test = train_test_split(X, y, \n",
    "                                                    train_size=0.7,\n",
    "                                                    test_size = 0.3, random_state=100)"
   ]
  },
  {
   "cell_type": "code",
   "execution_count": 270,
   "metadata": {},
   "outputs": [],
   "source": [
    "#Linear Regression"
   ]
  },
  {
   "cell_type": "code",
   "execution_count": 271,
   "metadata": {},
   "outputs": [
    {
     "data": {
      "text/plain": [
       "LinearRegression()"
      ]
     },
     "execution_count": 271,
     "metadata": {},
     "output_type": "execute_result"
    }
   ],
   "source": [
    "from sklearn.linear_model import LinearRegression\n",
    "\n",
    "# instantiate\n",
    "\n",
    "lm = LinearRegression()\n",
    "\n",
    "# fit\n",
    "\n",
    "lm.fit(X_train, y_train)"
   ]
  },
  {
   "cell_type": "code",
   "execution_count": 272,
   "metadata": {},
   "outputs": [],
   "source": [
    "y_pred = lm.predict(X_test)"
   ]
  },
  {
   "cell_type": "code",
   "execution_count": 273,
   "metadata": {},
   "outputs": [
    {
     "name": "stdout",
     "output_type": "stream",
     "text": [
      "mean_absolute_error:-  36.09865812740462\n"
     ]
    }
   ],
   "source": [
    "from sklearn.metrics import mean_absolute_error,r2_score\n",
    "\n",
    "print(\"mean_absolute_error:- \",mean_absolute_error(y_true=y_test, y_pred=y_pred))"
   ]
  },
  {
   "cell_type": "code",
   "execution_count": 274,
   "metadata": {},
   "outputs": [
    {
     "name": "stdout",
     "output_type": "stream",
     "text": [
      "R square:-  0.5001447957898622\n"
     ]
    }
   ],
   "source": [
    "print(\"R square:- \",r2_score(y_true=y_test, y_pred=y_pred))"
   ]
  },
  {
   "cell_type": "code",
   "execution_count": 275,
   "metadata": {},
   "outputs": [],
   "source": [
    "#OLS"
   ]
  },
  {
   "cell_type": "code",
   "execution_count": 276,
   "metadata": {},
   "outputs": [],
   "source": [
    "import statsmodels.api as sm"
   ]
  },
  {
   "cell_type": "code",
   "execution_count": 277,
   "metadata": {},
   "outputs": [],
   "source": [
    "X_train=sm.add_constant(X_train)\n"
   ]
  },
  {
   "cell_type": "code",
   "execution_count": 278,
   "metadata": {},
   "outputs": [],
   "source": [
    "model=sm.OLS(y_train,X_train)"
   ]
  },
  {
   "cell_type": "code",
   "execution_count": 279,
   "metadata": {},
   "outputs": [
    {
     "data": {
      "text/plain": [
       "const      334.377840\n",
       "Price      -49.015863\n",
       "Feature     62.454090\n",
       "Display    104.894602\n",
       "dtype: float64"
      ]
     },
     "execution_count": 279,
     "metadata": {},
     "output_type": "execute_result"
    }
   ],
   "source": [
    "results=model.fit()\n",
    "results.params"
   ]
  },
  {
   "cell_type": "code",
   "execution_count": 280,
   "metadata": {},
   "outputs": [
    {
     "name": "stdout",
     "output_type": "stream",
     "text": [
      "                            OLS Regression Results                            \n",
      "==============================================================================\n",
      "Dep. Variable:                  Sales   R-squared:                       0.538\n",
      "Model:                            OLS   Adj. R-squared:                  0.538\n",
      "Method:                 Least Squares   F-statistic:                     879.6\n",
      "Date:                Tue, 29 Dec 2020   Prob (F-statistic):               0.00\n",
      "Time:                        23:13:53   Log-Likelihood:                -12611.\n",
      "No. Observations:                2266   AIC:                         2.523e+04\n",
      "Df Residuals:                    2262   BIC:                         2.525e+04\n",
      "Df Model:                           3                                         \n",
      "Covariance Type:            nonrobust                                         \n",
      "==============================================================================\n",
      "                 coef    std err          t      P>|t|      [0.025      0.975]\n",
      "------------------------------------------------------------------------------\n",
      "const        334.3778     16.446     20.332      0.000     302.128     366.628\n",
      "Price        -49.0159      2.800    -17.507      0.000     -54.506     -43.525\n",
      "Feature       62.4541      4.251     14.692      0.000      54.118      70.790\n",
      "Display      104.8946      4.420     23.733      0.000      96.228     113.562\n",
      "==============================================================================\n",
      "Omnibus:                     2016.768   Durbin-Watson:                   2.024\n",
      "Prob(Omnibus):                  0.000   Jarque-Bera (JB):           126888.674\n",
      "Skew:                           3.917   Prob(JB):                         0.00\n",
      "Kurtosis:                      38.813   Cond. No.                         73.6\n",
      "==============================================================================\n",
      "\n",
      "Warnings:\n",
      "[1] Standard Errors assume that the covariance matrix of the errors is correctly specified.\n"
     ]
    }
   ],
   "source": [
    "print(results.summary())"
   ]
  },
  {
   "cell_type": "code",
   "execution_count": 371,
   "metadata": {},
   "outputs": [
    {
     "data": {
      "text/html": [
       "<div>\n",
       "<style scoped>\n",
       "    .dataframe tbody tr th:only-of-type {\n",
       "        vertical-align: middle;\n",
       "    }\n",
       "\n",
       "    .dataframe tbody tr th {\n",
       "        vertical-align: top;\n",
       "    }\n",
       "\n",
       "    .dataframe thead th {\n",
       "        text-align: right;\n",
       "    }\n",
       "</style>\n",
       "<table border=\"1\" class=\"dataframe\">\n",
       "  <thead>\n",
       "    <tr style=\"text-align: right;\">\n",
       "      <th></th>\n",
       "      <th>Sales</th>\n",
       "      <th>Price</th>\n",
       "      <th>Feature</th>\n",
       "      <th>Display</th>\n",
       "      <th>Price - Competitor 1</th>\n",
       "      <th>Price - Competitor 2</th>\n",
       "      <th>Price - Competitor 3</th>\n",
       "      <th>Price - Competitor 4</th>\n",
       "      <th>Price - Competitor 5</th>\n",
       "      <th>Display_Features</th>\n",
       "      <th>Display_Price</th>\n",
       "      <th>Price_Features</th>\n",
       "      <th>Display_Price_Features</th>\n",
       "    </tr>\n",
       "  </thead>\n",
       "  <tbody>\n",
       "    <tr>\n",
       "      <th>Sales</th>\n",
       "      <td>1.000000</td>\n",
       "      <td>-0.568337</td>\n",
       "      <td>0.554512</td>\n",
       "      <td>0.586432</td>\n",
       "      <td>0.076077</td>\n",
       "      <td>0.000520</td>\n",
       "      <td>-0.032863</td>\n",
       "      <td>0.036951</td>\n",
       "      <td>-0.092620</td>\n",
       "      <td>0.650002</td>\n",
       "      <td>0.531954</td>\n",
       "      <td>0.509892</td>\n",
       "      <td>0.611326</td>\n",
       "    </tr>\n",
       "    <tr>\n",
       "      <th>Price</th>\n",
       "      <td>-0.568337</td>\n",
       "      <td>1.000000</td>\n",
       "      <td>-0.497057</td>\n",
       "      <td>-0.389693</td>\n",
       "      <td>-0.050809</td>\n",
       "      <td>0.231586</td>\n",
       "      <td>0.245632</td>\n",
       "      <td>0.163036</td>\n",
       "      <td>0.199572</td>\n",
       "      <td>-0.390235</td>\n",
       "      <td>-0.344755</td>\n",
       "      <td>-0.453949</td>\n",
       "      <td>-0.362852</td>\n",
       "    </tr>\n",
       "    <tr>\n",
       "      <th>Feature</th>\n",
       "      <td>0.554512</td>\n",
       "      <td>-0.497057</td>\n",
       "      <td>1.000000</td>\n",
       "      <td>0.395313</td>\n",
       "      <td>-0.064475</td>\n",
       "      <td>0.050459</td>\n",
       "      <td>-0.009659</td>\n",
       "      <td>0.033663</td>\n",
       "      <td>-0.018128</td>\n",
       "      <td>0.618363</td>\n",
       "      <td>0.367607</td>\n",
       "      <td>0.993996</td>\n",
       "      <td>0.614872</td>\n",
       "    </tr>\n",
       "    <tr>\n",
       "      <th>Display</th>\n",
       "      <td>0.586432</td>\n",
       "      <td>-0.389693</td>\n",
       "      <td>0.395313</td>\n",
       "      <td>1.000000</td>\n",
       "      <td>0.056593</td>\n",
       "      <td>0.083311</td>\n",
       "      <td>0.018131</td>\n",
       "      <td>0.070811</td>\n",
       "      <td>-0.032234</td>\n",
       "      <td>0.718040</td>\n",
       "      <td>0.993062</td>\n",
       "      <td>0.373978</td>\n",
       "      <td>0.713985</td>\n",
       "    </tr>\n",
       "    <tr>\n",
       "      <th>Price - Competitor 1</th>\n",
       "      <td>0.076077</td>\n",
       "      <td>-0.050809</td>\n",
       "      <td>-0.064475</td>\n",
       "      <td>0.056593</td>\n",
       "      <td>1.000000</td>\n",
       "      <td>-0.057367</td>\n",
       "      <td>0.083864</td>\n",
       "      <td>0.039383</td>\n",
       "      <td>-0.026211</td>\n",
       "      <td>0.025484</td>\n",
       "      <td>0.055941</td>\n",
       "      <td>-0.068081</td>\n",
       "      <td>0.023371</td>\n",
       "    </tr>\n",
       "    <tr>\n",
       "      <th>Price - Competitor 2</th>\n",
       "      <td>0.000520</td>\n",
       "      <td>0.231586</td>\n",
       "      <td>0.050459</td>\n",
       "      <td>0.083311</td>\n",
       "      <td>-0.057367</td>\n",
       "      <td>1.000000</td>\n",
       "      <td>0.376283</td>\n",
       "      <td>0.327334</td>\n",
       "      <td>0.181781</td>\n",
       "      <td>0.032258</td>\n",
       "      <td>0.096036</td>\n",
       "      <td>0.061147</td>\n",
       "      <td>0.038824</td>\n",
       "    </tr>\n",
       "    <tr>\n",
       "      <th>Price - Competitor 3</th>\n",
       "      <td>-0.032863</td>\n",
       "      <td>0.245632</td>\n",
       "      <td>-0.009659</td>\n",
       "      <td>0.018131</td>\n",
       "      <td>0.083864</td>\n",
       "      <td>0.376283</td>\n",
       "      <td>1.000000</td>\n",
       "      <td>0.212282</td>\n",
       "      <td>0.156989</td>\n",
       "      <td>-0.002643</td>\n",
       "      <td>0.025076</td>\n",
       "      <td>0.004736</td>\n",
       "      <td>-0.000480</td>\n",
       "    </tr>\n",
       "    <tr>\n",
       "      <th>Price - Competitor 4</th>\n",
       "      <td>0.036951</td>\n",
       "      <td>0.163036</td>\n",
       "      <td>0.033663</td>\n",
       "      <td>0.070811</td>\n",
       "      <td>0.039383</td>\n",
       "      <td>0.327334</td>\n",
       "      <td>0.212282</td>\n",
       "      <td>1.000000</td>\n",
       "      <td>0.093709</td>\n",
       "      <td>0.040124</td>\n",
       "      <td>0.075657</td>\n",
       "      <td>0.048604</td>\n",
       "      <td>0.043800</td>\n",
       "    </tr>\n",
       "    <tr>\n",
       "      <th>Price - Competitor 5</th>\n",
       "      <td>-0.092620</td>\n",
       "      <td>0.199572</td>\n",
       "      <td>-0.018128</td>\n",
       "      <td>-0.032234</td>\n",
       "      <td>-0.026211</td>\n",
       "      <td>0.181781</td>\n",
       "      <td>0.156989</td>\n",
       "      <td>0.093709</td>\n",
       "      <td>1.000000</td>\n",
       "      <td>-0.020393</td>\n",
       "      <td>-0.021901</td>\n",
       "      <td>-0.004795</td>\n",
       "      <td>-0.014518</td>\n",
       "    </tr>\n",
       "    <tr>\n",
       "      <th>Display_Features</th>\n",
       "      <td>0.650002</td>\n",
       "      <td>-0.390235</td>\n",
       "      <td>0.618363</td>\n",
       "      <td>0.718040</td>\n",
       "      <td>0.025484</td>\n",
       "      <td>0.032258</td>\n",
       "      <td>-0.002643</td>\n",
       "      <td>0.040124</td>\n",
       "      <td>-0.020393</td>\n",
       "      <td>1.000000</td>\n",
       "      <td>0.676908</td>\n",
       "      <td>0.589922</td>\n",
       "      <td>0.994354</td>\n",
       "    </tr>\n",
       "    <tr>\n",
       "      <th>Display_Price</th>\n",
       "      <td>0.531954</td>\n",
       "      <td>-0.344755</td>\n",
       "      <td>0.367607</td>\n",
       "      <td>0.993062</td>\n",
       "      <td>0.055941</td>\n",
       "      <td>0.096036</td>\n",
       "      <td>0.025076</td>\n",
       "      <td>0.075657</td>\n",
       "      <td>-0.021901</td>\n",
       "      <td>0.676908</td>\n",
       "      <td>1.000000</td>\n",
       "      <td>0.352900</td>\n",
       "      <td>0.681329</td>\n",
       "    </tr>\n",
       "    <tr>\n",
       "      <th>Price_Features</th>\n",
       "      <td>0.509892</td>\n",
       "      <td>-0.453949</td>\n",
       "      <td>0.993996</td>\n",
       "      <td>0.373978</td>\n",
       "      <td>-0.068081</td>\n",
       "      <td>0.061147</td>\n",
       "      <td>0.004736</td>\n",
       "      <td>0.048604</td>\n",
       "      <td>-0.004795</td>\n",
       "      <td>0.589922</td>\n",
       "      <td>0.352900</td>\n",
       "      <td>1.000000</td>\n",
       "      <td>0.594105</td>\n",
       "    </tr>\n",
       "    <tr>\n",
       "      <th>Display_Price_Features</th>\n",
       "      <td>0.611326</td>\n",
       "      <td>-0.362852</td>\n",
       "      <td>0.614872</td>\n",
       "      <td>0.713985</td>\n",
       "      <td>0.023371</td>\n",
       "      <td>0.038824</td>\n",
       "      <td>-0.000480</td>\n",
       "      <td>0.043800</td>\n",
       "      <td>-0.014518</td>\n",
       "      <td>0.994354</td>\n",
       "      <td>0.681329</td>\n",
       "      <td>0.594105</td>\n",
       "      <td>1.000000</td>\n",
       "    </tr>\n",
       "  </tbody>\n",
       "</table>\n",
       "</div>"
      ],
      "text/plain": [
       "                           Sales     Price   Feature   Display  \\\n",
       "Sales                   1.000000 -0.568337  0.554512  0.586432   \n",
       "Price                  -0.568337  1.000000 -0.497057 -0.389693   \n",
       "Feature                 0.554512 -0.497057  1.000000  0.395313   \n",
       "Display                 0.586432 -0.389693  0.395313  1.000000   \n",
       "Price - Competitor 1    0.076077 -0.050809 -0.064475  0.056593   \n",
       "Price - Competitor 2    0.000520  0.231586  0.050459  0.083311   \n",
       "Price - Competitor 3   -0.032863  0.245632 -0.009659  0.018131   \n",
       "Price - Competitor 4    0.036951  0.163036  0.033663  0.070811   \n",
       "Price - Competitor 5   -0.092620  0.199572 -0.018128 -0.032234   \n",
       "Display_Features        0.650002 -0.390235  0.618363  0.718040   \n",
       "Display_Price           0.531954 -0.344755  0.367607  0.993062   \n",
       "Price_Features          0.509892 -0.453949  0.993996  0.373978   \n",
       "Display_Price_Features  0.611326 -0.362852  0.614872  0.713985   \n",
       "\n",
       "                        Price - Competitor 1  Price - Competitor 2  \\\n",
       "Sales                               0.076077              0.000520   \n",
       "Price                              -0.050809              0.231586   \n",
       "Feature                            -0.064475              0.050459   \n",
       "Display                             0.056593              0.083311   \n",
       "Price - Competitor 1                1.000000             -0.057367   \n",
       "Price - Competitor 2               -0.057367              1.000000   \n",
       "Price - Competitor 3                0.083864              0.376283   \n",
       "Price - Competitor 4                0.039383              0.327334   \n",
       "Price - Competitor 5               -0.026211              0.181781   \n",
       "Display_Features                    0.025484              0.032258   \n",
       "Display_Price                       0.055941              0.096036   \n",
       "Price_Features                     -0.068081              0.061147   \n",
       "Display_Price_Features              0.023371              0.038824   \n",
       "\n",
       "                        Price - Competitor 3  Price - Competitor 4  \\\n",
       "Sales                              -0.032863              0.036951   \n",
       "Price                               0.245632              0.163036   \n",
       "Feature                            -0.009659              0.033663   \n",
       "Display                             0.018131              0.070811   \n",
       "Price - Competitor 1                0.083864              0.039383   \n",
       "Price - Competitor 2                0.376283              0.327334   \n",
       "Price - Competitor 3                1.000000              0.212282   \n",
       "Price - Competitor 4                0.212282              1.000000   \n",
       "Price - Competitor 5                0.156989              0.093709   \n",
       "Display_Features                   -0.002643              0.040124   \n",
       "Display_Price                       0.025076              0.075657   \n",
       "Price_Features                      0.004736              0.048604   \n",
       "Display_Price_Features             -0.000480              0.043800   \n",
       "\n",
       "                        Price - Competitor 5  Display_Features  Display_Price  \\\n",
       "Sales                              -0.092620          0.650002       0.531954   \n",
       "Price                               0.199572         -0.390235      -0.344755   \n",
       "Feature                            -0.018128          0.618363       0.367607   \n",
       "Display                            -0.032234          0.718040       0.993062   \n",
       "Price - Competitor 1               -0.026211          0.025484       0.055941   \n",
       "Price - Competitor 2                0.181781          0.032258       0.096036   \n",
       "Price - Competitor 3                0.156989         -0.002643       0.025076   \n",
       "Price - Competitor 4                0.093709          0.040124       0.075657   \n",
       "Price - Competitor 5                1.000000         -0.020393      -0.021901   \n",
       "Display_Features                   -0.020393          1.000000       0.676908   \n",
       "Display_Price                      -0.021901          0.676908       1.000000   \n",
       "Price_Features                     -0.004795          0.589922       0.352900   \n",
       "Display_Price_Features             -0.014518          0.994354       0.681329   \n",
       "\n",
       "                        Price_Features  Display_Price_Features  \n",
       "Sales                         0.509892                0.611326  \n",
       "Price                        -0.453949               -0.362852  \n",
       "Feature                       0.993996                0.614872  \n",
       "Display                       0.373978                0.713985  \n",
       "Price - Competitor 1         -0.068081                0.023371  \n",
       "Price - Competitor 2          0.061147                0.038824  \n",
       "Price - Competitor 3          0.004736               -0.000480  \n",
       "Price - Competitor 4          0.048604                0.043800  \n",
       "Price - Competitor 5         -0.004795               -0.014518  \n",
       "Display_Features              0.589922                0.994354  \n",
       "Display_Price                 0.352900                0.681329  \n",
       "Price_Features                1.000000                0.594105  \n",
       "Display_Price_Features        0.594105                1.000000  "
      ]
     },
     "execution_count": 371,
     "metadata": {},
     "output_type": "execute_result"
    }
   ],
   "source": [
    "cor = df.corr()\n"
   ]
  },
  {
   "cell_type": "code",
   "execution_count": 282,
   "metadata": {},
   "outputs": [
    {
     "data": {
      "image/png": "[encoded data removed]",
      "text/plain": [
       "<Figure size 1440x864 with 2 Axes>"
      ]
     },
     "metadata": {
      "needs_background": "light"
     },
     "output_type": "display_data"
    }
   ],
   "source": [
    "# plotting correlations on a heatmap\n",
    "\n",
    "# figure size\n",
    "plt.figure(figsize=(20,12))\n",
    "\n",
    "# heatmap\n",
    "sns.heatmap(cor, cmap=\"YlGnBu\", annot=True)\n",
    "plt.show()"
   ]
  },
  {
   "cell_type": "code",
   "execution_count": 283,
   "metadata": {},
   "outputs": [
    {
     "data": {
      "text/html": [
       "<div>\n",
       "<style scoped>\n",
       "    .dataframe tbody tr th:only-of-type {\n",
       "        vertical-align: middle;\n",
       "    }\n",
       "\n",
       "    .dataframe tbody tr th {\n",
       "        vertical-align: top;\n",
       "    }\n",
       "\n",
       "    .dataframe thead th {\n",
       "        text-align: right;\n",
       "    }\n",
       "</style>\n",
       "<table border=\"1\" class=\"dataframe\">\n",
       "  <thead>\n",
       "    <tr style=\"text-align: right;\">\n",
       "      <th></th>\n",
       "      <th>Sales</th>\n",
       "      <th>Price</th>\n",
       "      <th>Feature</th>\n",
       "      <th>Display</th>\n",
       "      <th>Price - Competitor 1</th>\n",
       "      <th>Price - Competitor 2</th>\n",
       "      <th>Price - Competitor 3</th>\n",
       "      <th>Price - Competitor 4</th>\n",
       "      <th>Price - Competitor 5</th>\n",
       "    </tr>\n",
       "  </thead>\n",
       "  <tbody>\n",
       "    <tr>\n",
       "      <th>0</th>\n",
       "      <td>20.0</td>\n",
       "      <td>5.69</td>\n",
       "      <td>0</td>\n",
       "      <td>0</td>\n",
       "      <td>4.07</td>\n",
       "      <td>4.11</td>\n",
       "      <td>5.28</td>\n",
       "      <td>4.69</td>\n",
       "      <td>3.29</td>\n",
       "    </tr>\n",
       "    <tr>\n",
       "      <th>1</th>\n",
       "      <td>26.0</td>\n",
       "      <td>5.97</td>\n",
       "      <td>0</td>\n",
       "      <td>0</td>\n",
       "      <td>4.07</td>\n",
       "      <td>3.78</td>\n",
       "      <td>5.25</td>\n",
       "      <td>3.95</td>\n",
       "      <td>3.49</td>\n",
       "    </tr>\n",
       "    <tr>\n",
       "      <th>2</th>\n",
       "      <td>41.0</td>\n",
       "      <td>6.19</td>\n",
       "      <td>0</td>\n",
       "      <td>0</td>\n",
       "      <td>4.06</td>\n",
       "      <td>3.42</td>\n",
       "      <td>5.54</td>\n",
       "      <td>3.33</td>\n",
       "      <td>3.69</td>\n",
       "    </tr>\n",
       "    <tr>\n",
       "      <th>3</th>\n",
       "      <td>34.0</td>\n",
       "      <td>5.78</td>\n",
       "      <td>0</td>\n",
       "      <td>0</td>\n",
       "      <td>4.07</td>\n",
       "      <td>3.51</td>\n",
       "      <td>4.50</td>\n",
       "      <td>3.97</td>\n",
       "      <td>2.17</td>\n",
       "    </tr>\n",
       "    <tr>\n",
       "      <th>4</th>\n",
       "      <td>32.0</td>\n",
       "      <td>6.19</td>\n",
       "      <td>0</td>\n",
       "      <td>0</td>\n",
       "      <td>4.07</td>\n",
       "      <td>3.40</td>\n",
       "      <td>5.50</td>\n",
       "      <td>2.76</td>\n",
       "      <td>3.69</td>\n",
       "    </tr>\n",
       "  </tbody>\n",
       "</table>\n",
       "</div>"
      ],
      "text/plain": [
       "   Sales  Price  Feature  Display  Price - Competitor 1  Price - Competitor 2  \\\n",
       "0   20.0   5.69        0        0                  4.07                  4.11   \n",
       "1   26.0   5.97        0        0                  4.07                  3.78   \n",
       "2   41.0   6.19        0        0                  4.06                  3.42   \n",
       "3   34.0   5.78        0        0                  4.07                  3.51   \n",
       "4   32.0   6.19        0        0                  4.07                  3.40   \n",
       "\n",
       "   Price - Competitor 3  Price - Competitor 4  Price - Competitor 5  \n",
       "0                  5.28                  4.69                  3.29  \n",
       "1                  5.25                  3.95                  3.49  \n",
       "2                  5.54                  3.33                  3.69  \n",
       "3                  4.50                  3.97                  2.17  \n",
       "4                  5.50                  2.76                  3.69  "
      ]
     },
     "execution_count": 283,
     "metadata": {},
     "output_type": "execute_result"
    }
   ],
   "source": [
    "df.head(5)"
   ]
  },
  {
   "cell_type": "code",
   "execution_count": 284,
   "metadata": {},
   "outputs": [
    {
     "data": {
      "text/html": [
       "<div>\n",
       "<style scoped>\n",
       "    .dataframe tbody tr th:only-of-type {\n",
       "        vertical-align: middle;\n",
       "    }\n",
       "\n",
       "    .dataframe tbody tr th {\n",
       "        vertical-align: top;\n",
       "    }\n",
       "\n",
       "    .dataframe thead th {\n",
       "        text-align: right;\n",
       "    }\n",
       "</style>\n",
       "<table border=\"1\" class=\"dataframe\">\n",
       "  <thead>\n",
       "    <tr style=\"text-align: right;\">\n",
       "      <th></th>\n",
       "      <th></th>\n",
       "      <th>Sales</th>\n",
       "    </tr>\n",
       "    <tr>\n",
       "      <th>Feature</th>\n",
       "      <th>Display</th>\n",
       "      <th></th>\n",
       "    </tr>\n",
       "  </thead>\n",
       "  <tbody>\n",
       "    <tr>\n",
       "      <th rowspan=\"2\" valign=\"top\">0</th>\n",
       "      <th>0</th>\n",
       "      <td>51.615446</td>\n",
       "    </tr>\n",
       "    <tr>\n",
       "      <th>1</th>\n",
       "      <td>125.596859</td>\n",
       "    </tr>\n",
       "    <tr>\n",
       "      <th rowspan=\"2\" valign=\"top\">1</th>\n",
       "      <th>0</th>\n",
       "      <td>116.910828</td>\n",
       "    </tr>\n",
       "    <tr>\n",
       "      <th>1</th>\n",
       "      <td>291.927350</td>\n",
       "    </tr>\n",
       "  </tbody>\n",
       "</table>\n",
       "</div>"
      ],
      "text/plain": [
       "                      Sales\n",
       "Feature Display            \n",
       "0       0         51.615446\n",
       "        1        125.596859\n",
       "1       0        116.910828\n",
       "        1        291.927350"
      ]
     },
     "execution_count": 284,
     "metadata": {},
     "output_type": "execute_result"
    }
   ],
   "source": [
    "df.groupby([\"Feature\",\"Display\"]).agg({'Sales':'mean'})"
   ]
  },
  {
   "cell_type": "code",
   "execution_count": 382,
   "metadata": {},
   "outputs": [
    {
     "data": {
      "image/png": "[encoded data removed]",
      "text/plain": [
       "<Figure size 432x288 with 1 Axes>"
      ]
     },
     "metadata": {
      "needs_background": "light"
     },
     "output_type": "display_data"
    }
   ],
   "source": [
    "df.groupby([\"Feature\",\"Display\"]).agg({'Sales':'mean'}).plot.bar(cmap=\"viridis\")\n",
    "plt.show()"
   ]
  },
  {
   "cell_type": "code",
   "execution_count": 372,
   "metadata": {},
   "outputs": [
    {
     "name": "stdout",
     "output_type": "stream",
     "text": [
      "Sales mean where both Display and features are present is :- 292\n"
     ]
    }
   ],
   "source": [
    "sales_mean=df[(df['Feature']==1.0) & (df['Display']==1.0)]['Sales'].mean()\n",
    "print(\"Sales mean where both Display and features are present is :-\",round(sales_mean))"
   ]
  },
  {
   "cell_type": "code",
   "execution_count": 286,
   "metadata": {},
   "outputs": [],
   "source": [
    "#interactive effect by multiplying the key features\n",
    "#then OLS\n",
    "#Then OLS with competitors features\n",
    "#Then try ti improve R2\n"
   ]
  },
  {
   "cell_type": "code",
   "execution_count": null,
   "metadata": {},
   "outputs": [],
   "source": [
    "#Feature Engineering"
   ]
  },
  {
   "cell_type": "code",
   "execution_count": 287,
   "metadata": {},
   "outputs": [],
   "source": [
    "df[\"Display_Features\"]=df[\"Display\"]*df[\"Feature\"]\n",
    "\n",
    "df[\"Display_Price\"]=df[\"Display\"]*df[\"Price\"]\n",
    "df[\"Price_Features\"]=df[\"Price\"]*df[\"Feature\"]\n",
    "df[\"Display_Price_Features\"]=df[\"Display\"]*df[\"Feature\"]*df[\"Price\"]"
   ]
  },
  {
   "cell_type": "code",
   "execution_count": 288,
   "metadata": {},
   "outputs": [
    {
     "data": {
      "text/html": [
       "<div>\n",
       "<style scoped>\n",
       "    .dataframe tbody tr th:only-of-type {\n",
       "        vertical-align: middle;\n",
       "    }\n",
       "\n",
       "    .dataframe tbody tr th {\n",
       "        vertical-align: top;\n",
       "    }\n",
       "\n",
       "    .dataframe thead th {\n",
       "        text-align: right;\n",
       "    }\n",
       "</style>\n",
       "<table border=\"1\" class=\"dataframe\">\n",
       "  <thead>\n",
       "    <tr style=\"text-align: right;\">\n",
       "      <th></th>\n",
       "      <th>Sales</th>\n",
       "      <th>Price</th>\n",
       "      <th>Feature</th>\n",
       "      <th>Display</th>\n",
       "      <th>Price - Competitor 1</th>\n",
       "      <th>Price - Competitor 2</th>\n",
       "      <th>Price - Competitor 3</th>\n",
       "      <th>Price - Competitor 4</th>\n",
       "      <th>Price - Competitor 5</th>\n",
       "      <th>Display_Features</th>\n",
       "      <th>Display_Price</th>\n",
       "      <th>Price_Features</th>\n",
       "      <th>Display_Price_Features</th>\n",
       "    </tr>\n",
       "  </thead>\n",
       "  <tbody>\n",
       "    <tr>\n",
       "      <th>0</th>\n",
       "      <td>20.0</td>\n",
       "      <td>5.69</td>\n",
       "      <td>0</td>\n",
       "      <td>0</td>\n",
       "      <td>4.07</td>\n",
       "      <td>4.11</td>\n",
       "      <td>5.28</td>\n",
       "      <td>4.69</td>\n",
       "      <td>3.29</td>\n",
       "      <td>0</td>\n",
       "      <td>0.0</td>\n",
       "      <td>0.0</td>\n",
       "      <td>0.0</td>\n",
       "    </tr>\n",
       "    <tr>\n",
       "      <th>1</th>\n",
       "      <td>26.0</td>\n",
       "      <td>5.97</td>\n",
       "      <td>0</td>\n",
       "      <td>0</td>\n",
       "      <td>4.07</td>\n",
       "      <td>3.78</td>\n",
       "      <td>5.25</td>\n",
       "      <td>3.95</td>\n",
       "      <td>3.49</td>\n",
       "      <td>0</td>\n",
       "      <td>0.0</td>\n",
       "      <td>0.0</td>\n",
       "      <td>0.0</td>\n",
       "    </tr>\n",
       "    <tr>\n",
       "      <th>2</th>\n",
       "      <td>41.0</td>\n",
       "      <td>6.19</td>\n",
       "      <td>0</td>\n",
       "      <td>0</td>\n",
       "      <td>4.06</td>\n",
       "      <td>3.42</td>\n",
       "      <td>5.54</td>\n",
       "      <td>3.33</td>\n",
       "      <td>3.69</td>\n",
       "      <td>0</td>\n",
       "      <td>0.0</td>\n",
       "      <td>0.0</td>\n",
       "      <td>0.0</td>\n",
       "    </tr>\n",
       "    <tr>\n",
       "      <th>3</th>\n",
       "      <td>34.0</td>\n",
       "      <td>5.78</td>\n",
       "      <td>0</td>\n",
       "      <td>0</td>\n",
       "      <td>4.07</td>\n",
       "      <td>3.51</td>\n",
       "      <td>4.50</td>\n",
       "      <td>3.97</td>\n",
       "      <td>2.17</td>\n",
       "      <td>0</td>\n",
       "      <td>0.0</td>\n",
       "      <td>0.0</td>\n",
       "      <td>0.0</td>\n",
       "    </tr>\n",
       "    <tr>\n",
       "      <th>4</th>\n",
       "      <td>32.0</td>\n",
       "      <td>6.19</td>\n",
       "      <td>0</td>\n",
       "      <td>0</td>\n",
       "      <td>4.07</td>\n",
       "      <td>3.40</td>\n",
       "      <td>5.50</td>\n",
       "      <td>2.76</td>\n",
       "      <td>3.69</td>\n",
       "      <td>0</td>\n",
       "      <td>0.0</td>\n",
       "      <td>0.0</td>\n",
       "      <td>0.0</td>\n",
       "    </tr>\n",
       "  </tbody>\n",
       "</table>\n",
       "</div>"
      ],
      "text/plain": [
       "   Sales  Price  Feature  Display  Price - Competitor 1  Price - Competitor 2  \\\n",
       "0   20.0   5.69        0        0                  4.07                  4.11   \n",
       "1   26.0   5.97        0        0                  4.07                  3.78   \n",
       "2   41.0   6.19        0        0                  4.06                  3.42   \n",
       "3   34.0   5.78        0        0                  4.07                  3.51   \n",
       "4   32.0   6.19        0        0                  4.07                  3.40   \n",
       "\n",
       "   Price - Competitor 3  Price - Competitor 4  Price - Competitor 5  \\\n",
       "0                  5.28                  4.69                  3.29   \n",
       "1                  5.25                  3.95                  3.49   \n",
       "2                  5.54                  3.33                  3.69   \n",
       "3                  4.50                  3.97                  2.17   \n",
       "4                  5.50                  2.76                  3.69   \n",
       "\n",
       "   Display_Features  Display_Price  Price_Features  Display_Price_Features  \n",
       "0                 0            0.0             0.0                     0.0  \n",
       "1                 0            0.0             0.0                     0.0  \n",
       "2                 0            0.0             0.0                     0.0  \n",
       "3                 0            0.0             0.0                     0.0  \n",
       "4                 0            0.0             0.0                     0.0  "
      ]
     },
     "execution_count": 288,
     "metadata": {},
     "output_type": "execute_result"
    }
   ],
   "source": [
    "df.head(5)"
   ]
  },
  {
   "cell_type": "code",
   "execution_count": 295,
   "metadata": {},
   "outputs": [],
   "source": [
    "X=df.iloc[:,1:]"
   ]
  },
  {
   "cell_type": "code",
   "execution_count": 296,
   "metadata": {},
   "outputs": [
    {
     "data": {
      "text/html": [
       "<div>\n",
       "<style scoped>\n",
       "    .dataframe tbody tr th:only-of-type {\n",
       "        vertical-align: middle;\n",
       "    }\n",
       "\n",
       "    .dataframe tbody tr th {\n",
       "        vertical-align: top;\n",
       "    }\n",
       "\n",
       "    .dataframe thead th {\n",
       "        text-align: right;\n",
       "    }\n",
       "</style>\n",
       "<table border=\"1\" class=\"dataframe\">\n",
       "  <thead>\n",
       "    <tr style=\"text-align: right;\">\n",
       "      <th></th>\n",
       "      <th>Price</th>\n",
       "      <th>Feature</th>\n",
       "      <th>Display</th>\n",
       "      <th>Price - Competitor 1</th>\n",
       "      <th>Price - Competitor 2</th>\n",
       "      <th>Price - Competitor 3</th>\n",
       "      <th>Price - Competitor 4</th>\n",
       "      <th>Price - Competitor 5</th>\n",
       "      <th>Display_Features</th>\n",
       "      <th>Display_Price</th>\n",
       "      <th>Price_Features</th>\n",
       "      <th>Display_Price_Features</th>\n",
       "    </tr>\n",
       "  </thead>\n",
       "  <tbody>\n",
       "    <tr>\n",
       "      <th>0</th>\n",
       "      <td>5.69</td>\n",
       "      <td>0</td>\n",
       "      <td>0</td>\n",
       "      <td>4.07</td>\n",
       "      <td>4.11</td>\n",
       "      <td>5.28</td>\n",
       "      <td>4.69</td>\n",
       "      <td>3.29</td>\n",
       "      <td>0</td>\n",
       "      <td>0.0</td>\n",
       "      <td>0.0</td>\n",
       "      <td>0.0</td>\n",
       "    </tr>\n",
       "    <tr>\n",
       "      <th>1</th>\n",
       "      <td>5.97</td>\n",
       "      <td>0</td>\n",
       "      <td>0</td>\n",
       "      <td>4.07</td>\n",
       "      <td>3.78</td>\n",
       "      <td>5.25</td>\n",
       "      <td>3.95</td>\n",
       "      <td>3.49</td>\n",
       "      <td>0</td>\n",
       "      <td>0.0</td>\n",
       "      <td>0.0</td>\n",
       "      <td>0.0</td>\n",
       "    </tr>\n",
       "    <tr>\n",
       "      <th>2</th>\n",
       "      <td>6.19</td>\n",
       "      <td>0</td>\n",
       "      <td>0</td>\n",
       "      <td>4.06</td>\n",
       "      <td>3.42</td>\n",
       "      <td>5.54</td>\n",
       "      <td>3.33</td>\n",
       "      <td>3.69</td>\n",
       "      <td>0</td>\n",
       "      <td>0.0</td>\n",
       "      <td>0.0</td>\n",
       "      <td>0.0</td>\n",
       "    </tr>\n",
       "    <tr>\n",
       "      <th>3</th>\n",
       "      <td>5.78</td>\n",
       "      <td>0</td>\n",
       "      <td>0</td>\n",
       "      <td>4.07</td>\n",
       "      <td>3.51</td>\n",
       "      <td>4.50</td>\n",
       "      <td>3.97</td>\n",
       "      <td>2.17</td>\n",
       "      <td>0</td>\n",
       "      <td>0.0</td>\n",
       "      <td>0.0</td>\n",
       "      <td>0.0</td>\n",
       "    </tr>\n",
       "    <tr>\n",
       "      <th>4</th>\n",
       "      <td>6.19</td>\n",
       "      <td>0</td>\n",
       "      <td>0</td>\n",
       "      <td>4.07</td>\n",
       "      <td>3.40</td>\n",
       "      <td>5.50</td>\n",
       "      <td>2.76</td>\n",
       "      <td>3.69</td>\n",
       "      <td>0</td>\n",
       "      <td>0.0</td>\n",
       "      <td>0.0</td>\n",
       "      <td>0.0</td>\n",
       "    </tr>\n",
       "  </tbody>\n",
       "</table>\n",
       "</div>"
      ],
      "text/plain": [
       "   Price  Feature  Display  Price - Competitor 1  Price - Competitor 2  \\\n",
       "0   5.69        0        0                  4.07                  4.11   \n",
       "1   5.97        0        0                  4.07                  3.78   \n",
       "2   6.19        0        0                  4.06                  3.42   \n",
       "3   5.78        0        0                  4.07                  3.51   \n",
       "4   6.19        0        0                  4.07                  3.40   \n",
       "\n",
       "   Price - Competitor 3  Price - Competitor 4  Price - Competitor 5  \\\n",
       "0                  5.28                  4.69                  3.29   \n",
       "1                  5.25                  3.95                  3.49   \n",
       "2                  5.54                  3.33                  3.69   \n",
       "3                  4.50                  3.97                  2.17   \n",
       "4                  5.50                  2.76                  3.69   \n",
       "\n",
       "   Display_Features  Display_Price  Price_Features  Display_Price_Features  \n",
       "0                 0            0.0             0.0                     0.0  \n",
       "1                 0            0.0             0.0                     0.0  \n",
       "2                 0            0.0             0.0                     0.0  \n",
       "3                 0            0.0             0.0                     0.0  \n",
       "4                 0            0.0             0.0                     0.0  "
      ]
     },
     "execution_count": 296,
     "metadata": {},
     "output_type": "execute_result"
    }
   ],
   "source": [
    "X.head(5)"
   ]
  },
  {
   "cell_type": "code",
   "execution_count": 297,
   "metadata": {},
   "outputs": [],
   "source": [
    "y=df[\"Sales\"]"
   ]
  },
  {
   "cell_type": "code",
   "execution_count": 298,
   "metadata": {},
   "outputs": [],
   "source": [
    "X_train, X_test, y_train, y_test = train_test_split(X, y, \n",
    "                                                    train_size=0.7,\n",
    "                                                    test_size = 0.3, random_state=100)"
   ]
  },
  {
   "cell_type": "code",
   "execution_count": 301,
   "metadata": {},
   "outputs": [],
   "source": [
    "#OLS 2"
   ]
  },
  {
   "cell_type": "code",
   "execution_count": 302,
   "metadata": {},
   "outputs": [],
   "source": [
    "X_train=sm.add_constant(X_train)"
   ]
  },
  {
   "cell_type": "code",
   "execution_count": 303,
   "metadata": {},
   "outputs": [],
   "source": [
    "model=sm.OLS(y_train,X_train)"
   ]
  },
  {
   "cell_type": "code",
   "execution_count": 304,
   "metadata": {},
   "outputs": [
    {
     "data": {
      "text/plain": [
       "const                     138.425533\n",
       "Price                     -29.884473\n",
       "Feature                   134.936949\n",
       "Display                   404.856034\n",
       "Price - Competitor 1       10.449697\n",
       "Price - Competitor 2        2.872742\n",
       "Price - Competitor 3        2.094836\n",
       "Price - Competitor 4        7.174354\n",
       "Price - Competitor 5       -3.073699\n",
       "Display_Features          636.901820\n",
       "Display_Price             -63.857053\n",
       "Price_Features            -17.424168\n",
       "Display_Price_Features   -115.455846\n",
       "dtype: float64"
      ]
     },
     "execution_count": 304,
     "metadata": {},
     "output_type": "execute_result"
    }
   ],
   "source": [
    "results=model.fit()\n",
    "results.params"
   ]
  },
  {
   "cell_type": "code",
   "execution_count": 305,
   "metadata": {},
   "outputs": [
    {
     "name": "stdout",
     "output_type": "stream",
     "text": [
      "                            OLS Regression Results                            \n",
      "==============================================================================\n",
      "Dep. Variable:                  Sales   R-squared:                       0.667\n",
      "Model:                            OLS   Adj. R-squared:                  0.665\n",
      "Method:                 Least Squares   F-statistic:                     375.7\n",
      "Date:                Tue, 29 Dec 2020   Prob (F-statistic):               0.00\n",
      "Time:                        23:18:00   Log-Likelihood:                -12242.\n",
      "No. Observations:                2266   AIC:                         2.451e+04\n",
      "Df Residuals:                    2253   BIC:                         2.458e+04\n",
      "Df Model:                          12                                         \n",
      "Covariance Type:            nonrobust                                         \n",
      "==========================================================================================\n",
      "                             coef    std err          t      P>|t|      [0.025      0.975]\n",
      "------------------------------------------------------------------------------------------\n",
      "const                    138.4255     20.342      6.805      0.000      98.535     178.316\n",
      "Price                    -29.8845      3.010     -9.930      0.000     -35.786     -23.983\n",
      "Feature                  134.9369     40.641      3.320      0.001      55.239     214.635\n",
      "Display                  404.8560     58.621      6.906      0.000     289.899     519.813\n",
      "Price - Competitor 1      10.4497      2.207      4.735      0.000       6.122      14.777\n",
      "Price - Competitor 2       2.8727      2.844      1.010      0.313      -2.705       8.451\n",
      "Price - Competitor 3       2.0948      1.991      1.052      0.293      -1.809       5.999\n",
      "Price - Competitor 4       7.1744      1.818      3.947      0.000       3.610      10.739\n",
      "Price - Competitor 5      -3.0737      1.990     -1.544      0.123      -6.977       0.829\n",
      "Display_Features         636.9018     80.256      7.936      0.000     479.518     794.286\n",
      "Display_Price            -63.8571     10.629     -6.008      0.000     -84.700     -43.014\n",
      "Price_Features           -17.4242      7.672     -2.271      0.023     -32.468      -2.380\n",
      "Display_Price_Features  -115.4558     15.231     -7.580      0.000    -145.324     -85.587\n",
      "==============================================================================\n",
      "Omnibus:                     1169.027   Durbin-Watson:                   1.994\n",
      "Prob(Omnibus):                  0.000   Jarque-Bera (JB):            25872.877\n",
      "Skew:                           1.941   Prob(JB):                         0.00\n",
      "Kurtosis:                      19.092   Cond. No.                         959.\n",
      "==============================================================================\n",
      "\n",
      "Warnings:\n",
      "[1] Standard Errors assume that the covariance matrix of the errors is correctly specified.\n"
     ]
    }
   ],
   "source": [
    "print(results.summary())"
   ]
  },
  {
   "cell_type": "code",
   "execution_count": 306,
   "metadata": {},
   "outputs": [],
   "source": [
    "data_final=df.copy()"
   ]
  },
  {
   "cell_type": "code",
   "execution_count": 314,
   "metadata": {},
   "outputs": [],
   "source": [
    "data_final.drop(df.columns[[5,6,8]],axis=1,inplace=True)"
   ]
  },
  {
   "cell_type": "code",
   "execution_count": 328,
   "metadata": {},
   "outputs": [
    {
     "data": {
      "text/html": [
       "<div>\n",
       "<style scoped>\n",
       "    .dataframe tbody tr th:only-of-type {\n",
       "        vertical-align: middle;\n",
       "    }\n",
       "\n",
       "    .dataframe tbody tr th {\n",
       "        vertical-align: top;\n",
       "    }\n",
       "\n",
       "    .dataframe thead th {\n",
       "        text-align: right;\n",
       "    }\n",
       "</style>\n",
       "<table border=\"1\" class=\"dataframe\">\n",
       "  <thead>\n",
       "    <tr style=\"text-align: right;\">\n",
       "      <th></th>\n",
       "      <th>Sales</th>\n",
       "      <th>Price</th>\n",
       "      <th>Feature</th>\n",
       "      <th>Display</th>\n",
       "      <th>Price - Competitor 1</th>\n",
       "      <th>Price - Competitor 4</th>\n",
       "      <th>Display_Features</th>\n",
       "      <th>Display_Price</th>\n",
       "      <th>Price_Features</th>\n",
       "      <th>Display_Price_Features</th>\n",
       "    </tr>\n",
       "  </thead>\n",
       "  <tbody>\n",
       "    <tr>\n",
       "      <th>0</th>\n",
       "      <td>20.0</td>\n",
       "      <td>5.69</td>\n",
       "      <td>0</td>\n",
       "      <td>0</td>\n",
       "      <td>4.07</td>\n",
       "      <td>4.69</td>\n",
       "      <td>0</td>\n",
       "      <td>0.00</td>\n",
       "      <td>0.00</td>\n",
       "      <td>0.00</td>\n",
       "    </tr>\n",
       "    <tr>\n",
       "      <th>1</th>\n",
       "      <td>26.0</td>\n",
       "      <td>5.97</td>\n",
       "      <td>0</td>\n",
       "      <td>0</td>\n",
       "      <td>4.07</td>\n",
       "      <td>3.95</td>\n",
       "      <td>0</td>\n",
       "      <td>0.00</td>\n",
       "      <td>0.00</td>\n",
       "      <td>0.00</td>\n",
       "    </tr>\n",
       "    <tr>\n",
       "      <th>2</th>\n",
       "      <td>41.0</td>\n",
       "      <td>6.19</td>\n",
       "      <td>0</td>\n",
       "      <td>0</td>\n",
       "      <td>4.06</td>\n",
       "      <td>3.33</td>\n",
       "      <td>0</td>\n",
       "      <td>0.00</td>\n",
       "      <td>0.00</td>\n",
       "      <td>0.00</td>\n",
       "    </tr>\n",
       "    <tr>\n",
       "      <th>3</th>\n",
       "      <td>34.0</td>\n",
       "      <td>5.78</td>\n",
       "      <td>0</td>\n",
       "      <td>0</td>\n",
       "      <td>4.07</td>\n",
       "      <td>3.97</td>\n",
       "      <td>0</td>\n",
       "      <td>0.00</td>\n",
       "      <td>0.00</td>\n",
       "      <td>0.00</td>\n",
       "    </tr>\n",
       "    <tr>\n",
       "      <th>4</th>\n",
       "      <td>32.0</td>\n",
       "      <td>6.19</td>\n",
       "      <td>0</td>\n",
       "      <td>0</td>\n",
       "      <td>4.07</td>\n",
       "      <td>2.76</td>\n",
       "      <td>0</td>\n",
       "      <td>0.00</td>\n",
       "      <td>0.00</td>\n",
       "      <td>0.00</td>\n",
       "    </tr>\n",
       "    <tr>\n",
       "      <th>...</th>\n",
       "      <td>...</td>\n",
       "      <td>...</td>\n",
       "      <td>...</td>\n",
       "      <td>...</td>\n",
       "      <td>...</td>\n",
       "      <td>...</td>\n",
       "      <td>...</td>\n",
       "      <td>...</td>\n",
       "      <td>...</td>\n",
       "      <td>...</td>\n",
       "    </tr>\n",
       "    <tr>\n",
       "      <th>3233</th>\n",
       "      <td>53.0</td>\n",
       "      <td>5.99</td>\n",
       "      <td>0</td>\n",
       "      <td>0</td>\n",
       "      <td>4.93</td>\n",
       "      <td>4.04</td>\n",
       "      <td>0</td>\n",
       "      <td>0.00</td>\n",
       "      <td>0.00</td>\n",
       "      <td>0.00</td>\n",
       "    </tr>\n",
       "    <tr>\n",
       "      <th>3234</th>\n",
       "      <td>35.0</td>\n",
       "      <td>5.97</td>\n",
       "      <td>0</td>\n",
       "      <td>0</td>\n",
       "      <td>4.93</td>\n",
       "      <td>4.04</td>\n",
       "      <td>0</td>\n",
       "      <td>0.00</td>\n",
       "      <td>0.00</td>\n",
       "      <td>0.00</td>\n",
       "    </tr>\n",
       "    <tr>\n",
       "      <th>3235</th>\n",
       "      <td>113.0</td>\n",
       "      <td>5.95</td>\n",
       "      <td>0</td>\n",
       "      <td>0</td>\n",
       "      <td>4.93</td>\n",
       "      <td>4.83</td>\n",
       "      <td>0</td>\n",
       "      <td>0.00</td>\n",
       "      <td>0.00</td>\n",
       "      <td>0.00</td>\n",
       "    </tr>\n",
       "    <tr>\n",
       "      <th>3236</th>\n",
       "      <td>117.0</td>\n",
       "      <td>5.97</td>\n",
       "      <td>0</td>\n",
       "      <td>0</td>\n",
       "      <td>4.93</td>\n",
       "      <td>4.60</td>\n",
       "      <td>0</td>\n",
       "      <td>0.00</td>\n",
       "      <td>0.00</td>\n",
       "      <td>0.00</td>\n",
       "    </tr>\n",
       "    <tr>\n",
       "      <th>3237</th>\n",
       "      <td>723.0</td>\n",
       "      <td>4.58</td>\n",
       "      <td>1</td>\n",
       "      <td>1</td>\n",
       "      <td>4.93</td>\n",
       "      <td>5.09</td>\n",
       "      <td>1</td>\n",
       "      <td>4.58</td>\n",
       "      <td>4.58</td>\n",
       "      <td>4.58</td>\n",
       "    </tr>\n",
       "  </tbody>\n",
       "</table>\n",
       "<p>3238 rows × 10 columns</p>\n",
       "</div>"
      ],
      "text/plain": [
       "      Sales  Price  Feature  Display  Price - Competitor 1  \\\n",
       "0      20.0   5.69        0        0                  4.07   \n",
       "1      26.0   5.97        0        0                  4.07   \n",
       "2      41.0   6.19        0        0                  4.06   \n",
       "3      34.0   5.78        0        0                  4.07   \n",
       "4      32.0   6.19        0        0                  4.07   \n",
       "...     ...    ...      ...      ...                   ...   \n",
       "3233   53.0   5.99        0        0                  4.93   \n",
       "3234   35.0   5.97        0        0                  4.93   \n",
       "3235  113.0   5.95        0        0                  4.93   \n",
       "3236  117.0   5.97        0        0                  4.93   \n",
       "3237  723.0   4.58        1        1                  4.93   \n",
       "\n",
       "      Price - Competitor 4  Display_Features  Display_Price  Price_Features  \\\n",
       "0                     4.69                 0           0.00            0.00   \n",
       "1                     3.95                 0           0.00            0.00   \n",
       "2                     3.33                 0           0.00            0.00   \n",
       "3                     3.97                 0           0.00            0.00   \n",
       "4                     2.76                 0           0.00            0.00   \n",
       "...                    ...               ...            ...             ...   \n",
       "3233                  4.04                 0           0.00            0.00   \n",
       "3234                  4.04                 0           0.00            0.00   \n",
       "3235                  4.83                 0           0.00            0.00   \n",
       "3236                  4.60                 0           0.00            0.00   \n",
       "3237                  5.09                 1           4.58            4.58   \n",
       "\n",
       "      Display_Price_Features  \n",
       "0                       0.00  \n",
       "1                       0.00  \n",
       "2                       0.00  \n",
       "3                       0.00  \n",
       "4                       0.00  \n",
       "...                      ...  \n",
       "3233                    0.00  \n",
       "3234                    0.00  \n",
       "3235                    0.00  \n",
       "3236                    0.00  \n",
       "3237                    4.58  \n",
       "\n",
       "[3238 rows x 10 columns]"
      ]
     },
     "execution_count": 328,
     "metadata": {},
     "output_type": "execute_result"
    }
   ],
   "source": [
    "data_final"
   ]
  },
  {
   "cell_type": "code",
   "execution_count": 329,
   "metadata": {},
   "outputs": [],
   "source": [
    "#OLS 3"
   ]
  },
  {
   "cell_type": "code",
   "execution_count": 337,
   "metadata": {},
   "outputs": [
    {
     "data": {
      "text/html": [
       "<div>\n",
       "<style scoped>\n",
       "    .dataframe tbody tr th:only-of-type {\n",
       "        vertical-align: middle;\n",
       "    }\n",
       "\n",
       "    .dataframe tbody tr th {\n",
       "        vertical-align: top;\n",
       "    }\n",
       "\n",
       "    .dataframe thead th {\n",
       "        text-align: right;\n",
       "    }\n",
       "</style>\n",
       "<table border=\"1\" class=\"dataframe\">\n",
       "  <thead>\n",
       "    <tr style=\"text-align: right;\">\n",
       "      <th></th>\n",
       "      <th>Price</th>\n",
       "      <th>Feature</th>\n",
       "      <th>Display</th>\n",
       "      <th>Price - Competitor 1</th>\n",
       "      <th>Price - Competitor 4</th>\n",
       "      <th>Display_Features</th>\n",
       "      <th>Display_Price</th>\n",
       "      <th>Price_Features</th>\n",
       "      <th>Display_Price_Features</th>\n",
       "    </tr>\n",
       "  </thead>\n",
       "  <tbody>\n",
       "    <tr>\n",
       "      <th>0</th>\n",
       "      <td>5.69</td>\n",
       "      <td>0</td>\n",
       "      <td>0</td>\n",
       "      <td>4.07</td>\n",
       "      <td>4.69</td>\n",
       "      <td>0</td>\n",
       "      <td>0.0</td>\n",
       "      <td>0.0</td>\n",
       "      <td>0.0</td>\n",
       "    </tr>\n",
       "    <tr>\n",
       "      <th>1</th>\n",
       "      <td>5.97</td>\n",
       "      <td>0</td>\n",
       "      <td>0</td>\n",
       "      <td>4.07</td>\n",
       "      <td>3.95</td>\n",
       "      <td>0</td>\n",
       "      <td>0.0</td>\n",
       "      <td>0.0</td>\n",
       "      <td>0.0</td>\n",
       "    </tr>\n",
       "    <tr>\n",
       "      <th>2</th>\n",
       "      <td>6.19</td>\n",
       "      <td>0</td>\n",
       "      <td>0</td>\n",
       "      <td>4.06</td>\n",
       "      <td>3.33</td>\n",
       "      <td>0</td>\n",
       "      <td>0.0</td>\n",
       "      <td>0.0</td>\n",
       "      <td>0.0</td>\n",
       "    </tr>\n",
       "    <tr>\n",
       "      <th>3</th>\n",
       "      <td>5.78</td>\n",
       "      <td>0</td>\n",
       "      <td>0</td>\n",
       "      <td>4.07</td>\n",
       "      <td>3.97</td>\n",
       "      <td>0</td>\n",
       "      <td>0.0</td>\n",
       "      <td>0.0</td>\n",
       "      <td>0.0</td>\n",
       "    </tr>\n",
       "    <tr>\n",
       "      <th>4</th>\n",
       "      <td>6.19</td>\n",
       "      <td>0</td>\n",
       "      <td>0</td>\n",
       "      <td>4.07</td>\n",
       "      <td>2.76</td>\n",
       "      <td>0</td>\n",
       "      <td>0.0</td>\n",
       "      <td>0.0</td>\n",
       "      <td>0.0</td>\n",
       "    </tr>\n",
       "  </tbody>\n",
       "</table>\n",
       "</div>"
      ],
      "text/plain": [
       "   Price  Feature  Display  Price - Competitor 1  Price - Competitor 4  \\\n",
       "0   5.69        0        0                  4.07                  4.69   \n",
       "1   5.97        0        0                  4.07                  3.95   \n",
       "2   6.19        0        0                  4.06                  3.33   \n",
       "3   5.78        0        0                  4.07                  3.97   \n",
       "4   6.19        0        0                  4.07                  2.76   \n",
       "\n",
       "   Display_Features  Display_Price  Price_Features  Display_Price_Features  \n",
       "0                 0            0.0             0.0                     0.0  \n",
       "1                 0            0.0             0.0                     0.0  \n",
       "2                 0            0.0             0.0                     0.0  \n",
       "3                 0            0.0             0.0                     0.0  \n",
       "4                 0            0.0             0.0                     0.0  "
      ]
     },
     "execution_count": 337,
     "metadata": {},
     "output_type": "execute_result"
    }
   ],
   "source": [
    "X=data_final.iloc[:,1:]\n",
    "X.head(5)"
   ]
  },
  {
   "cell_type": "code",
   "execution_count": 338,
   "metadata": {},
   "outputs": [],
   "source": [
    "y=data_final[\"Sales\"]"
   ]
  },
  {
   "cell_type": "code",
   "execution_count": 339,
   "metadata": {},
   "outputs": [],
   "source": [
    "X_train, X_test, y_train, y_test = train_test_split(X, y, \n",
    "                                                    train_size=0.7,\n",
    "                                                    test_size = 0.3, random_state=100)"
   ]
  },
  {
   "cell_type": "code",
   "execution_count": 342,
   "metadata": {},
   "outputs": [
    {
     "data": {
      "text/html": [
       "<div>\n",
       "<style scoped>\n",
       "    .dataframe tbody tr th:only-of-type {\n",
       "        vertical-align: middle;\n",
       "    }\n",
       "\n",
       "    .dataframe tbody tr th {\n",
       "        vertical-align: top;\n",
       "    }\n",
       "\n",
       "    .dataframe thead th {\n",
       "        text-align: right;\n",
       "    }\n",
       "</style>\n",
       "<table border=\"1\" class=\"dataframe\">\n",
       "  <thead>\n",
       "    <tr style=\"text-align: right;\">\n",
       "      <th></th>\n",
       "      <th>const</th>\n",
       "      <th>Price</th>\n",
       "      <th>Feature</th>\n",
       "      <th>Display</th>\n",
       "      <th>Price - Competitor 1</th>\n",
       "      <th>Price - Competitor 4</th>\n",
       "      <th>Display_Features</th>\n",
       "      <th>Display_Price</th>\n",
       "      <th>Price_Features</th>\n",
       "      <th>Display_Price_Features</th>\n",
       "    </tr>\n",
       "  </thead>\n",
       "  <tbody>\n",
       "    <tr>\n",
       "      <th>2020</th>\n",
       "      <td>1.0</td>\n",
       "      <td>5.94</td>\n",
       "      <td>0</td>\n",
       "      <td>0</td>\n",
       "      <td>3.49</td>\n",
       "      <td>4.52</td>\n",
       "      <td>0</td>\n",
       "      <td>0.0</td>\n",
       "      <td>0.0</td>\n",
       "      <td>0.0</td>\n",
       "    </tr>\n",
       "    <tr>\n",
       "      <th>3129</th>\n",
       "      <td>1.0</td>\n",
       "      <td>6.09</td>\n",
       "      <td>0</td>\n",
       "      <td>0</td>\n",
       "      <td>4.89</td>\n",
       "      <td>3.33</td>\n",
       "      <td>0</td>\n",
       "      <td>0.0</td>\n",
       "      <td>0.0</td>\n",
       "      <td>0.0</td>\n",
       "    </tr>\n",
       "    <tr>\n",
       "      <th>3197</th>\n",
       "      <td>1.0</td>\n",
       "      <td>5.89</td>\n",
       "      <td>0</td>\n",
       "      <td>0</td>\n",
       "      <td>4.92</td>\n",
       "      <td>4.20</td>\n",
       "      <td>0</td>\n",
       "      <td>0.0</td>\n",
       "      <td>0.0</td>\n",
       "      <td>0.0</td>\n",
       "    </tr>\n",
       "    <tr>\n",
       "      <th>3016</th>\n",
       "      <td>1.0</td>\n",
       "      <td>5.00</td>\n",
       "      <td>0</td>\n",
       "      <td>0</td>\n",
       "      <td>3.27</td>\n",
       "      <td>4.33</td>\n",
       "      <td>0</td>\n",
       "      <td>0.0</td>\n",
       "      <td>0.0</td>\n",
       "      <td>0.0</td>\n",
       "    </tr>\n",
       "    <tr>\n",
       "      <th>722</th>\n",
       "      <td>1.0</td>\n",
       "      <td>5.99</td>\n",
       "      <td>0</td>\n",
       "      <td>0</td>\n",
       "      <td>3.85</td>\n",
       "      <td>4.80</td>\n",
       "      <td>0</td>\n",
       "      <td>0.0</td>\n",
       "      <td>0.0</td>\n",
       "      <td>0.0</td>\n",
       "    </tr>\n",
       "  </tbody>\n",
       "</table>\n",
       "</div>"
      ],
      "text/plain": [
       "      const  Price  Feature  Display  Price - Competitor 1  \\\n",
       "2020    1.0   5.94        0        0                  3.49   \n",
       "3129    1.0   6.09        0        0                  4.89   \n",
       "3197    1.0   5.89        0        0                  4.92   \n",
       "3016    1.0   5.00        0        0                  3.27   \n",
       "722     1.0   5.99        0        0                  3.85   \n",
       "\n",
       "      Price - Competitor 4  Display_Features  Display_Price  Price_Features  \\\n",
       "2020                  4.52                 0            0.0             0.0   \n",
       "3129                  3.33                 0            0.0             0.0   \n",
       "3197                  4.20                 0            0.0             0.0   \n",
       "3016                  4.33                 0            0.0             0.0   \n",
       "722                   4.80                 0            0.0             0.0   \n",
       "\n",
       "      Display_Price_Features  \n",
       "2020                     0.0  \n",
       "3129                     0.0  \n",
       "3197                     0.0  \n",
       "3016                     0.0  \n",
       "722                      0.0  "
      ]
     },
     "execution_count": 342,
     "metadata": {},
     "output_type": "execute_result"
    }
   ],
   "source": [
    "X_train.head(5)"
   ]
  },
  {
   "cell_type": "code",
   "execution_count": 340,
   "metadata": {},
   "outputs": [],
   "source": [
    "X_train=sm.add_constant(X_train)"
   ]
  },
  {
   "cell_type": "code",
   "execution_count": 343,
   "metadata": {},
   "outputs": [],
   "source": [
    "model=sm.OLS(y_train,X_train)"
   ]
  },
  {
   "cell_type": "code",
   "execution_count": 344,
   "metadata": {},
   "outputs": [
    {
     "data": {
      "text/plain": [
       "const                     141.976157\n",
       "Price                     -28.947245\n",
       "Feature                   139.389517\n",
       "Display                   408.300611\n",
       "Price - Competitor 1       10.688429\n",
       "Price - Competitor 4        7.883165\n",
       "Display_Features          635.505150\n",
       "Display_Price             -64.257482\n",
       "Price_Features            -18.115263\n",
       "Display_Price_Features   -115.486223\n",
       "dtype: float64"
      ]
     },
     "execution_count": 344,
     "metadata": {},
     "output_type": "execute_result"
    }
   ],
   "source": [
    "results=model.fit()\n",
    "results.params"
   ]
  },
  {
   "cell_type": "code",
   "execution_count": 345,
   "metadata": {},
   "outputs": [
    {
     "name": "stdout",
     "output_type": "stream",
     "text": [
      "                            OLS Regression Results                            \n",
      "==============================================================================\n",
      "Dep. Variable:                  Sales   R-squared:                       0.666\n",
      "Model:                            OLS   Adj. R-squared:                  0.665\n",
      "Method:                 Least Squares   F-statistic:                     500.0\n",
      "Date:                Tue, 29 Dec 2020   Prob (F-statistic):               0.00\n",
      "Time:                        23:35:28   Log-Likelihood:                -12244.\n",
      "No. Observations:                2266   AIC:                         2.451e+04\n",
      "Df Residuals:                    2256   BIC:                         2.457e+04\n",
      "Df Model:                           9                                         \n",
      "Covariance Type:            nonrobust                                         \n",
      "==========================================================================================\n",
      "                             coef    std err          t      P>|t|      [0.025      0.975]\n",
      "------------------------------------------------------------------------------------------\n",
      "const                    141.9762     19.678      7.215      0.000     103.388     180.565\n",
      "Price                    -28.9472      2.833    -10.216      0.000     -34.504     -23.391\n",
      "Feature                  139.3895     40.358      3.454      0.001      60.247     218.532\n",
      "Display                  408.3006     58.581      6.970      0.000     293.422     523.179\n",
      "Price - Competitor 1      10.6884      2.182      4.898      0.000       6.409      14.968\n",
      "Price - Competitor 4       7.8832      1.750      4.504      0.000       4.451      11.316\n",
      "Display_Features         635.5051     79.964      7.947      0.000     478.695     792.315\n",
      "Display_Price            -64.2575     10.619     -6.051      0.000     -85.081     -43.434\n",
      "Price_Features           -18.1153      7.620     -2.377      0.018     -33.059      -3.171\n",
      "Display_Price_Features  -115.4862     15.171     -7.612      0.000    -145.236     -85.736\n",
      "==============================================================================\n",
      "Omnibus:                     1166.017   Durbin-Watson:                   1.992\n",
      "Prob(Omnibus):                  0.000   Jarque-Bera (JB):            25849.764\n",
      "Skew:                           1.934   Prob(JB):                         0.00\n",
      "Kurtosis:                      19.088   Cond. No.                         721.\n",
      "==============================================================================\n",
      "\n",
      "Warnings:\n",
      "[1] Standard Errors assume that the covariance matrix of the errors is correctly specified.\n"
     ]
    }
   ],
   "source": [
    "print(results.summary())"
   ]
  },
  {
   "cell_type": "code",
   "execution_count": null,
   "metadata": {},
   "outputs": [],
   "source": [
    "#LINEAR MODEL TO CHECK MSE"
   ]
  },
  {
   "cell_type": "code",
   "execution_count": 346,
   "metadata": {},
   "outputs": [
    {
     "data": {
      "text/html": [
       "<div>\n",
       "<style scoped>\n",
       "    .dataframe tbody tr th:only-of-type {\n",
       "        vertical-align: middle;\n",
       "    }\n",
       "\n",
       "    .dataframe tbody tr th {\n",
       "        vertical-align: top;\n",
       "    }\n",
       "\n",
       "    .dataframe thead th {\n",
       "        text-align: right;\n",
       "    }\n",
       "</style>\n",
       "<table border=\"1\" class=\"dataframe\">\n",
       "  <thead>\n",
       "    <tr style=\"text-align: right;\">\n",
       "      <th></th>\n",
       "      <th>Price</th>\n",
       "      <th>Feature</th>\n",
       "      <th>Display</th>\n",
       "      <th>Price - Competitor 1</th>\n",
       "      <th>Price - Competitor 4</th>\n",
       "      <th>Display_Features</th>\n",
       "      <th>Display_Price</th>\n",
       "      <th>Price_Features</th>\n",
       "      <th>Display_Price_Features</th>\n",
       "    </tr>\n",
       "  </thead>\n",
       "  <tbody>\n",
       "    <tr>\n",
       "      <th>0</th>\n",
       "      <td>5.69</td>\n",
       "      <td>0</td>\n",
       "      <td>0</td>\n",
       "      <td>4.07</td>\n",
       "      <td>4.69</td>\n",
       "      <td>0</td>\n",
       "      <td>0.0</td>\n",
       "      <td>0.0</td>\n",
       "      <td>0.0</td>\n",
       "    </tr>\n",
       "    <tr>\n",
       "      <th>1</th>\n",
       "      <td>5.97</td>\n",
       "      <td>0</td>\n",
       "      <td>0</td>\n",
       "      <td>4.07</td>\n",
       "      <td>3.95</td>\n",
       "      <td>0</td>\n",
       "      <td>0.0</td>\n",
       "      <td>0.0</td>\n",
       "      <td>0.0</td>\n",
       "    </tr>\n",
       "    <tr>\n",
       "      <th>2</th>\n",
       "      <td>6.19</td>\n",
       "      <td>0</td>\n",
       "      <td>0</td>\n",
       "      <td>4.06</td>\n",
       "      <td>3.33</td>\n",
       "      <td>0</td>\n",
       "      <td>0.0</td>\n",
       "      <td>0.0</td>\n",
       "      <td>0.0</td>\n",
       "    </tr>\n",
       "    <tr>\n",
       "      <th>3</th>\n",
       "      <td>5.78</td>\n",
       "      <td>0</td>\n",
       "      <td>0</td>\n",
       "      <td>4.07</td>\n",
       "      <td>3.97</td>\n",
       "      <td>0</td>\n",
       "      <td>0.0</td>\n",
       "      <td>0.0</td>\n",
       "      <td>0.0</td>\n",
       "    </tr>\n",
       "    <tr>\n",
       "      <th>4</th>\n",
       "      <td>6.19</td>\n",
       "      <td>0</td>\n",
       "      <td>0</td>\n",
       "      <td>4.07</td>\n",
       "      <td>2.76</td>\n",
       "      <td>0</td>\n",
       "      <td>0.0</td>\n",
       "      <td>0.0</td>\n",
       "      <td>0.0</td>\n",
       "    </tr>\n",
       "  </tbody>\n",
       "</table>\n",
       "</div>"
      ],
      "text/plain": [
       "   Price  Feature  Display  Price - Competitor 1  Price - Competitor 4  \\\n",
       "0   5.69        0        0                  4.07                  4.69   \n",
       "1   5.97        0        0                  4.07                  3.95   \n",
       "2   6.19        0        0                  4.06                  3.33   \n",
       "3   5.78        0        0                  4.07                  3.97   \n",
       "4   6.19        0        0                  4.07                  2.76   \n",
       "\n",
       "   Display_Features  Display_Price  Price_Features  Display_Price_Features  \n",
       "0                 0            0.0             0.0                     0.0  \n",
       "1                 0            0.0             0.0                     0.0  \n",
       "2                 0            0.0             0.0                     0.0  \n",
       "3                 0            0.0             0.0                     0.0  \n",
       "4                 0            0.0             0.0                     0.0  "
      ]
     },
     "execution_count": 346,
     "metadata": {},
     "output_type": "execute_result"
    }
   ],
   "source": [
    "X=data_final.iloc[:,1:]\n",
    "X.head(5)"
   ]
  },
  {
   "cell_type": "code",
   "execution_count": 347,
   "metadata": {},
   "outputs": [],
   "source": [
    "y=data_final[\"Sales\"]"
   ]
  },
  {
   "cell_type": "code",
   "execution_count": 348,
   "metadata": {},
   "outputs": [],
   "source": [
    "X_train, X_test, y_train, y_test = train_test_split(X, y, \n",
    "                                                    train_size=0.7,\n",
    "                                                    test_size = 0.3, random_state=100)"
   ]
  },
  {
   "cell_type": "code",
   "execution_count": 349,
   "metadata": {},
   "outputs": [
    {
     "data": {
      "text/plain": [
       "LinearRegression()"
      ]
     },
     "execution_count": 349,
     "metadata": {},
     "output_type": "execute_result"
    }
   ],
   "source": [
    "# instantiate\n",
    "\n",
    "lm = LinearRegression()\n",
    "\n",
    "# fit\n",
    "\n",
    "lm.fit(X_train, y_train)"
   ]
  },
  {
   "cell_type": "code",
   "execution_count": 350,
   "metadata": {},
   "outputs": [],
   "source": [
    "y_pred = lm.predict(X_test)"
   ]
  },
  {
   "cell_type": "code",
   "execution_count": 351,
   "metadata": {},
   "outputs": [
    {
     "name": "stdout",
     "output_type": "stream",
     "text": [
      "mean_absolute_error:-  34.1573417290571\n"
     ]
    }
   ],
   "source": [
    "from sklearn.metrics import mean_absolute_error,r2_score\n",
    "\n",
    "print(\"mean_absolute_error:- \",mean_absolute_error(y_true=y_test, y_pred=y_pred))"
   ]
  },
  {
   "cell_type": "code",
   "execution_count": 352,
   "metadata": {},
   "outputs": [
    {
     "name": "stdout",
     "output_type": "stream",
     "text": [
      "R square:-  0.5817833350599807\n"
     ]
    }
   ],
   "source": [
    "print(\"R square:- \",r2_score(y_true=y_test, y_pred=y_pred))"
   ]
  },
  {
   "cell_type": "code",
   "execution_count": 406,
   "metadata": {},
   "outputs": [],
   "source": [
    "#Ensemble"
   ]
  },
  {
   "cell_type": "code",
   "execution_count": 365,
   "metadata": {},
   "outputs": [],
   "source": [
    "from sklearn.ensemble import RandomForestRegressor"
   ]
  },
  {
   "cell_type": "code",
   "execution_count": 366,
   "metadata": {},
   "outputs": [],
   "source": [
    "RF=RandomForestRegressor(random_state=0)"
   ]
  },
  {
   "cell_type": "code",
   "execution_count": 367,
   "metadata": {},
   "outputs": [
    {
     "data": {
      "text/plain": [
       "RandomForestRegressor(random_state=0)"
      ]
     },
     "execution_count": 367,
     "metadata": {},
     "output_type": "execute_result"
    }
   ],
   "source": [
    "RF.fit(X_train, y_train)"
   ]
  },
  {
   "cell_type": "code",
   "execution_count": 368,
   "metadata": {},
   "outputs": [],
   "source": [
    "y_pred_RF=RF.predict(X_test)"
   ]
  },
  {
   "cell_type": "code",
   "execution_count": 369,
   "metadata": {},
   "outputs": [
    {
     "name": "stdout",
     "output_type": "stream",
     "text": [
      "mean_absolute_error RF:-  32.75064528449189\n"
     ]
    }
   ],
   "source": [
    "print(\"mean_absolute_error RF:- \",mean_absolute_error(y_true=y_test, y_pred=y_pred_RF))"
   ]
  },
  {
   "cell_type": "code",
   "execution_count": 370,
   "metadata": {},
   "outputs": [
    {
     "data": {
      "text/html": [
       "<div>\n",
       "<style scoped>\n",
       "    .dataframe tbody tr th:only-of-type {\n",
       "        vertical-align: middle;\n",
       "    }\n",
       "\n",
       "    .dataframe tbody tr th {\n",
       "        vertical-align: top;\n",
       "    }\n",
       "\n",
       "    .dataframe thead th {\n",
       "        text-align: right;\n",
       "    }\n",
       "</style>\n",
       "<table border=\"1\" class=\"dataframe\">\n",
       "  <thead>\n",
       "    <tr style=\"text-align: right;\">\n",
       "      <th></th>\n",
       "      <th>feature importance</th>\n",
       "    </tr>\n",
       "  </thead>\n",
       "  <tbody>\n",
       "    <tr>\n",
       "      <th>Display_Price_Features</th>\n",
       "      <td>0.265456</td>\n",
       "    </tr>\n",
       "    <tr>\n",
       "      <th>Display_Features</th>\n",
       "      <td>0.234152</td>\n",
       "    </tr>\n",
       "    <tr>\n",
       "      <th>Price</th>\n",
       "      <td>0.161370</td>\n",
       "    </tr>\n",
       "    <tr>\n",
       "      <th>Price - Competitor 1</th>\n",
       "      <td>0.123129</td>\n",
       "    </tr>\n",
       "    <tr>\n",
       "      <th>Price - Competitor 4</th>\n",
       "      <td>0.088688</td>\n",
       "    </tr>\n",
       "    <tr>\n",
       "      <th>Display_Price</th>\n",
       "      <td>0.066134</td>\n",
       "    </tr>\n",
       "    <tr>\n",
       "      <th>Price_Features</th>\n",
       "      <td>0.055521</td>\n",
       "    </tr>\n",
       "    <tr>\n",
       "      <th>Feature</th>\n",
       "      <td>0.003052</td>\n",
       "    </tr>\n",
       "    <tr>\n",
       "      <th>Display</th>\n",
       "      <td>0.002499</td>\n",
       "    </tr>\n",
       "  </tbody>\n",
       "</table>\n",
       "</div>"
      ],
      "text/plain": [
       "                        feature importance\n",
       "Display_Price_Features            0.265456\n",
       "Display_Features                  0.234152\n",
       "Price                             0.161370\n",
       "Price - Competitor 1              0.123129\n",
       "Price - Competitor 4              0.088688\n",
       "Display_Price                     0.066134\n",
       "Price_Features                    0.055521\n",
       "Feature                           0.003052\n",
       "Display                           0.002499"
      ]
     },
     "execution_count": 370,
     "metadata": {},
     "output_type": "execute_result"
    }
   ],
   "source": [
    "df_feature_importance = pd.DataFrame(RF.feature_importances_, index=X_train.columns, columns=['feature importance']).sort_values('feature importance', ascending=False)\n",
    "df_feature_importance"
   ]
  },
  {
   "cell_type": "code",
   "execution_count": null,
   "metadata": {},
   "outputs": [],
   "source": []
  },
  {
   "cell_type": "code",
   "execution_count": null,
   "metadata": {},
   "outputs": [],
   "source": []
  },
  {
   "cell_type": "code",
   "execution_count": null,
   "metadata": {},
   "outputs": [],
   "source": []
  },
  {
   "cell_type": "code",
   "execution_count": null,
   "metadata": {},
   "outputs": [],
   "source": []
  },
  {
   "cell_type": "code",
   "execution_count": null,
   "metadata": {},
   "outputs": [],
   "source": []
  },
  {
   "cell_type": "code",
   "execution_count": null,
   "metadata": {},
   "outputs": [],
   "source": []
  },
  {
   "cell_type": "code",
   "execution_count": null,
   "metadata": {},
   "outputs": [],
   "source": []
  },
  {
   "cell_type": "code",
   "execution_count": null,
   "metadata": {},
   "outputs": [],
   "source": []
  },
  {
   "cell_type": "code",
   "execution_count": null,
   "metadata": {},
   "outputs": [],
   "source": []
  }
 ],
 "metadata": {
  "kernelspec": {
   "display_name": "Python 3",
   "language": "python",
   "name": "python3"
  },
  "language_info": {
   "codemirror_mode": {
    "name": "ipython",
    "version": 3
   },
   "file_extension": ".py",
   "mimetype": "text/x-python",
   "name": "python",
   "nbconvert_exporter": "python",
   "pygments_lexer": "ipython3",
   "version": "3.8.3"
  }
 },
 "nbformat": 4,
 "nbformat_minor": 4
}
